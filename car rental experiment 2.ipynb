{
 "cells": [
  {
   "cell_type": "code",
   "execution_count": 38,
   "id": "e7b83f7a",
   "metadata": {},
   "outputs": [],
   "source": [
    "import pandas as pd\n",
    "import numpy as np\n",
    "import matplotlib.pyplot as plt\n",
    "import seaborn as sns\n",
    "from scipy.stats import norm\n",
    "from sklearn.preprocessing import StandardScaler\n",
    "from sklearn.model_selection import cross_val_score, train_test_split\n",
    "from scipy import stats\n",
    "import warnings\n",
    "warnings.filterwarnings('ignore')\n",
    "%matplotlib inline\n",
    "\n",
    "#read the file from local folder\n",
    "df_train = pd.read_csv(\"/Users/yanglulu/Desktop/tdi_rentals_dataset.csv\")"
   ]
  },
  {
   "cell_type": "code",
   "execution_count": 2,
   "id": "810a1e50",
   "metadata": {},
   "outputs": [
    {
     "data": {
      "text/plain": [
       "count     731.000000\n",
       "mean     4504.348837\n",
       "std      1937.211452\n",
       "min        22.000000\n",
       "25%      3152.000000\n",
       "50%      4548.000000\n",
       "75%      5956.000000\n",
       "max      8714.000000\n",
       "Name: rental, dtype: float64"
      ]
     },
     "execution_count": 2,
     "metadata": {},
     "output_type": "execute_result"
    }
   ],
   "source": [
    "df_train['rental'].describe()"
   ]
  },
  {
   "cell_type": "code",
   "execution_count": 3,
   "id": "f5155969",
   "metadata": {},
   "outputs": [
    {
     "name": "stdout",
     "output_type": "stream",
     "text": [
      "<class 'pandas.core.frame.DataFrame'>\n",
      "RangeIndex: 731 entries, 0 to 730\n",
      "Data columns (total 15 columns):\n",
      " #   Column             Non-Null Count  Dtype  \n",
      "---  ------             --------------  -----  \n",
      " 0   obs                731 non-null    int64  \n",
      " 1   date               731 non-null    object \n",
      " 2   year               731 non-null    int64  \n",
      " 3   month              731 non-null    int64  \n",
      " 4   season             731 non-null    int64  \n",
      " 5   holiday            731 non-null    int64  \n",
      " 6   working_day        731 non-null    int64  \n",
      " 7   weather_condition  731 non-null    int64  \n",
      " 8   temp               731 non-null    float64\n",
      " 9   feel_temp          731 non-null    float64\n",
      " 10  humidity           731 non-null    float64\n",
      " 11  wind_speed         731 non-null    float64\n",
      " 12  occasional         731 non-null    int64  \n",
      " 13  members            731 non-null    int64  \n",
      " 14  rental             731 non-null    int64  \n",
      "dtypes: float64(4), int64(10), object(1)\n",
      "memory usage: 85.8+ KB\n"
     ]
    }
   ],
   "source": [
    "#check the info about the dataset to see if there is any Null value or if there is any data type that does not make sense.\n",
    "df_train.info()"
   ]
  },
  {
   "cell_type": "code",
   "execution_count": 4,
   "id": "cbc0c10b",
   "metadata": {},
   "outputs": [
    {
     "data": {
      "text/html": [
       "<div>\n",
       "<style scoped>\n",
       "    .dataframe tbody tr th:only-of-type {\n",
       "        vertical-align: middle;\n",
       "    }\n",
       "\n",
       "    .dataframe tbody tr th {\n",
       "        vertical-align: top;\n",
       "    }\n",
       "\n",
       "    .dataframe thead th {\n",
       "        text-align: right;\n",
       "    }\n",
       "</style>\n",
       "<table border=\"1\" class=\"dataframe\">\n",
       "  <thead>\n",
       "    <tr style=\"text-align: right;\">\n",
       "      <th></th>\n",
       "      <th>obs</th>\n",
       "      <th>year</th>\n",
       "      <th>month</th>\n",
       "      <th>season</th>\n",
       "      <th>holiday</th>\n",
       "      <th>working_day</th>\n",
       "      <th>weather_condition</th>\n",
       "      <th>temp</th>\n",
       "      <th>feel_temp</th>\n",
       "      <th>humidity</th>\n",
       "      <th>wind_speed</th>\n",
       "      <th>occasional</th>\n",
       "      <th>members</th>\n",
       "      <th>rental</th>\n",
       "    </tr>\n",
       "  </thead>\n",
       "  <tbody>\n",
       "    <tr>\n",
       "      <th>count</th>\n",
       "      <td>731.000000</td>\n",
       "      <td>731.000000</td>\n",
       "      <td>731.000000</td>\n",
       "      <td>731.000000</td>\n",
       "      <td>731.000000</td>\n",
       "      <td>731.000000</td>\n",
       "      <td>731.000000</td>\n",
       "      <td>731.000000</td>\n",
       "      <td>731.000000</td>\n",
       "      <td>731.000000</td>\n",
       "      <td>731.000000</td>\n",
       "      <td>731.000000</td>\n",
       "      <td>731.000000</td>\n",
       "      <td>731.000000</td>\n",
       "    </tr>\n",
       "    <tr>\n",
       "      <th>mean</th>\n",
       "      <td>366.000000</td>\n",
       "      <td>2011.500684</td>\n",
       "      <td>6.519836</td>\n",
       "      <td>2.496580</td>\n",
       "      <td>0.028728</td>\n",
       "      <td>0.683995</td>\n",
       "      <td>1.395349</td>\n",
       "      <td>20.310776</td>\n",
       "      <td>23.717699</td>\n",
       "      <td>0.627894</td>\n",
       "      <td>12.762576</td>\n",
       "      <td>848.176471</td>\n",
       "      <td>3656.172367</td>\n",
       "      <td>4504.348837</td>\n",
       "    </tr>\n",
       "    <tr>\n",
       "      <th>std</th>\n",
       "      <td>211.165812</td>\n",
       "      <td>0.500342</td>\n",
       "      <td>3.451913</td>\n",
       "      <td>1.110807</td>\n",
       "      <td>0.167155</td>\n",
       "      <td>0.465233</td>\n",
       "      <td>0.544894</td>\n",
       "      <td>7.505091</td>\n",
       "      <td>8.148059</td>\n",
       "      <td>0.142429</td>\n",
       "      <td>5.192357</td>\n",
       "      <td>686.622488</td>\n",
       "      <td>1560.256377</td>\n",
       "      <td>1937.211452</td>\n",
       "    </tr>\n",
       "    <tr>\n",
       "      <th>min</th>\n",
       "      <td>1.000000</td>\n",
       "      <td>2011.000000</td>\n",
       "      <td>1.000000</td>\n",
       "      <td>1.000000</td>\n",
       "      <td>0.000000</td>\n",
       "      <td>0.000000</td>\n",
       "      <td>1.000000</td>\n",
       "      <td>2.424346</td>\n",
       "      <td>3.953480</td>\n",
       "      <td>0.000000</td>\n",
       "      <td>1.500244</td>\n",
       "      <td>2.000000</td>\n",
       "      <td>20.000000</td>\n",
       "      <td>22.000000</td>\n",
       "    </tr>\n",
       "    <tr>\n",
       "      <th>25%</th>\n",
       "      <td>183.500000</td>\n",
       "      <td>2011.000000</td>\n",
       "      <td>4.000000</td>\n",
       "      <td>2.000000</td>\n",
       "      <td>0.000000</td>\n",
       "      <td>0.000000</td>\n",
       "      <td>1.000000</td>\n",
       "      <td>13.820424</td>\n",
       "      <td>16.892125</td>\n",
       "      <td>0.520000</td>\n",
       "      <td>9.041650</td>\n",
       "      <td>315.500000</td>\n",
       "      <td>2497.000000</td>\n",
       "      <td>3152.000000</td>\n",
       "    </tr>\n",
       "    <tr>\n",
       "      <th>50%</th>\n",
       "      <td>366.000000</td>\n",
       "      <td>2012.000000</td>\n",
       "      <td>7.000000</td>\n",
       "      <td>3.000000</td>\n",
       "      <td>0.000000</td>\n",
       "      <td>1.000000</td>\n",
       "      <td>1.000000</td>\n",
       "      <td>20.431653</td>\n",
       "      <td>24.336650</td>\n",
       "      <td>0.626667</td>\n",
       "      <td>12.125325</td>\n",
       "      <td>713.000000</td>\n",
       "      <td>3662.000000</td>\n",
       "      <td>4548.000000</td>\n",
       "    </tr>\n",
       "    <tr>\n",
       "      <th>75%</th>\n",
       "      <td>548.500000</td>\n",
       "      <td>2012.000000</td>\n",
       "      <td>10.000000</td>\n",
       "      <td>3.000000</td>\n",
       "      <td>0.000000</td>\n",
       "      <td>1.000000</td>\n",
       "      <td>2.000000</td>\n",
       "      <td>26.872076</td>\n",
       "      <td>30.430100</td>\n",
       "      <td>0.730209</td>\n",
       "      <td>15.625371</td>\n",
       "      <td>1096.000000</td>\n",
       "      <td>4776.500000</td>\n",
       "      <td>5956.000000</td>\n",
       "    </tr>\n",
       "    <tr>\n",
       "      <th>max</th>\n",
       "      <td>731.000000</td>\n",
       "      <td>2012.000000</td>\n",
       "      <td>12.000000</td>\n",
       "      <td>4.000000</td>\n",
       "      <td>1.000000</td>\n",
       "      <td>1.000000</td>\n",
       "      <td>3.000000</td>\n",
       "      <td>35.328347</td>\n",
       "      <td>42.044800</td>\n",
       "      <td>0.972500</td>\n",
       "      <td>34.000021</td>\n",
       "      <td>3410.000000</td>\n",
       "      <td>6946.000000</td>\n",
       "      <td>8714.000000</td>\n",
       "    </tr>\n",
       "  </tbody>\n",
       "</table>\n",
       "</div>"
      ],
      "text/plain": [
       "              obs         year       month      season     holiday  \\\n",
       "count  731.000000   731.000000  731.000000  731.000000  731.000000   \n",
       "mean   366.000000  2011.500684    6.519836    2.496580    0.028728   \n",
       "std    211.165812     0.500342    3.451913    1.110807    0.167155   \n",
       "min      1.000000  2011.000000    1.000000    1.000000    0.000000   \n",
       "25%    183.500000  2011.000000    4.000000    2.000000    0.000000   \n",
       "50%    366.000000  2012.000000    7.000000    3.000000    0.000000   \n",
       "75%    548.500000  2012.000000   10.000000    3.000000    0.000000   \n",
       "max    731.000000  2012.000000   12.000000    4.000000    1.000000   \n",
       "\n",
       "       working_day  weather_condition        temp   feel_temp    humidity  \\\n",
       "count   731.000000         731.000000  731.000000  731.000000  731.000000   \n",
       "mean      0.683995           1.395349   20.310776   23.717699    0.627894   \n",
       "std       0.465233           0.544894    7.505091    8.148059    0.142429   \n",
       "min       0.000000           1.000000    2.424346    3.953480    0.000000   \n",
       "25%       0.000000           1.000000   13.820424   16.892125    0.520000   \n",
       "50%       1.000000           1.000000   20.431653   24.336650    0.626667   \n",
       "75%       1.000000           2.000000   26.872076   30.430100    0.730209   \n",
       "max       1.000000           3.000000   35.328347   42.044800    0.972500   \n",
       "\n",
       "       wind_speed   occasional      members       rental  \n",
       "count  731.000000   731.000000   731.000000   731.000000  \n",
       "mean    12.762576   848.176471  3656.172367  4504.348837  \n",
       "std      5.192357   686.622488  1560.256377  1937.211452  \n",
       "min      1.500244     2.000000    20.000000    22.000000  \n",
       "25%      9.041650   315.500000  2497.000000  3152.000000  \n",
       "50%     12.125325   713.000000  3662.000000  4548.000000  \n",
       "75%     15.625371  1096.000000  4776.500000  5956.000000  \n",
       "max     34.000021  3410.000000  6946.000000  8714.000000  "
      ]
     },
     "execution_count": 4,
     "metadata": {},
     "output_type": "execute_result"
    }
   ],
   "source": [
    "df_train.describe()"
   ]
  },
  {
   "cell_type": "code",
   "execution_count": 39,
   "id": "e3e97ab4",
   "metadata": {},
   "outputs": [
    {
     "data": {
      "text/plain": [
       "0     985\n",
       "1     801\n",
       "2    1349\n",
       "3    1562\n",
       "4    1600\n",
       "Name: rental, dtype: int64"
      ]
     },
     "execution_count": 39,
     "metadata": {},
     "output_type": "execute_result"
    }
   ],
   "source": [
    "y=df_train['rental']\n",
    "y.head()"
   ]
  },
  {
   "cell_type": "code",
   "execution_count": 40,
   "id": "7d9fe4eb",
   "metadata": {},
   "outputs": [
    {
     "data": {
      "text/html": [
       "<div>\n",
       "<style scoped>\n",
       "    .dataframe tbody tr th:only-of-type {\n",
       "        vertical-align: middle;\n",
       "    }\n",
       "\n",
       "    .dataframe tbody tr th {\n",
       "        vertical-align: top;\n",
       "    }\n",
       "\n",
       "    .dataframe thead th {\n",
       "        text-align: right;\n",
       "    }\n",
       "</style>\n",
       "<table border=\"1\" class=\"dataframe\">\n",
       "  <thead>\n",
       "    <tr style=\"text-align: right;\">\n",
       "      <th></th>\n",
       "      <th>obs</th>\n",
       "      <th>year</th>\n",
       "      <th>month</th>\n",
       "      <th>season</th>\n",
       "      <th>holiday</th>\n",
       "      <th>working_day</th>\n",
       "      <th>weather_condition</th>\n",
       "      <th>temp</th>\n",
       "      <th>feel_temp</th>\n",
       "      <th>humidity</th>\n",
       "      <th>wind_speed</th>\n",
       "      <th>occasional</th>\n",
       "      <th>members</th>\n",
       "    </tr>\n",
       "  </thead>\n",
       "  <tbody>\n",
       "    <tr>\n",
       "      <th>0</th>\n",
       "      <td>1</td>\n",
       "      <td>2011</td>\n",
       "      <td>1</td>\n",
       "      <td>1</td>\n",
       "      <td>0</td>\n",
       "      <td>0</td>\n",
       "      <td>2</td>\n",
       "      <td>14.110847</td>\n",
       "      <td>18.18125</td>\n",
       "      <td>0.805833</td>\n",
       "      <td>10.749882</td>\n",
       "      <td>331</td>\n",
       "      <td>654</td>\n",
       "    </tr>\n",
       "    <tr>\n",
       "      <th>1</th>\n",
       "      <td>2</td>\n",
       "      <td>2011</td>\n",
       "      <td>1</td>\n",
       "      <td>1</td>\n",
       "      <td>0</td>\n",
       "      <td>0</td>\n",
       "      <td>2</td>\n",
       "      <td>14.902598</td>\n",
       "      <td>17.68695</td>\n",
       "      <td>0.696087</td>\n",
       "      <td>16.652113</td>\n",
       "      <td>131</td>\n",
       "      <td>670</td>\n",
       "    </tr>\n",
       "    <tr>\n",
       "      <th>2</th>\n",
       "      <td>3</td>\n",
       "      <td>2011</td>\n",
       "      <td>1</td>\n",
       "      <td>1</td>\n",
       "      <td>0</td>\n",
       "      <td>1</td>\n",
       "      <td>1</td>\n",
       "      <td>8.050924</td>\n",
       "      <td>9.47025</td>\n",
       "      <td>0.437273</td>\n",
       "      <td>16.636703</td>\n",
       "      <td>120</td>\n",
       "      <td>1229</td>\n",
       "    </tr>\n",
       "    <tr>\n",
       "      <th>3</th>\n",
       "      <td>4</td>\n",
       "      <td>2011</td>\n",
       "      <td>1</td>\n",
       "      <td>1</td>\n",
       "      <td>0</td>\n",
       "      <td>1</td>\n",
       "      <td>1</td>\n",
       "      <td>8.200000</td>\n",
       "      <td>10.60610</td>\n",
       "      <td>0.590435</td>\n",
       "      <td>10.739832</td>\n",
       "      <td>108</td>\n",
       "      <td>1454</td>\n",
       "    </tr>\n",
       "    <tr>\n",
       "      <th>4</th>\n",
       "      <td>5</td>\n",
       "      <td>2011</td>\n",
       "      <td>1</td>\n",
       "      <td>1</td>\n",
       "      <td>0</td>\n",
       "      <td>1</td>\n",
       "      <td>1</td>\n",
       "      <td>9.305237</td>\n",
       "      <td>11.46350</td>\n",
       "      <td>0.436957</td>\n",
       "      <td>12.522300</td>\n",
       "      <td>82</td>\n",
       "      <td>1518</td>\n",
       "    </tr>\n",
       "  </tbody>\n",
       "</table>\n",
       "</div>"
      ],
      "text/plain": [
       "   obs  year  month  season  holiday  working_day  weather_condition  \\\n",
       "0    1  2011      1       1        0            0                  2   \n",
       "1    2  2011      1       1        0            0                  2   \n",
       "2    3  2011      1       1        0            1                  1   \n",
       "3    4  2011      1       1        0            1                  1   \n",
       "4    5  2011      1       1        0            1                  1   \n",
       "\n",
       "        temp  feel_temp  humidity  wind_speed  occasional  members  \n",
       "0  14.110847   18.18125  0.805833   10.749882         331      654  \n",
       "1  14.902598   17.68695  0.696087   16.652113         131      670  \n",
       "2   8.050924    9.47025  0.437273   16.636703         120     1229  \n",
       "3   8.200000   10.60610  0.590435   10.739832         108     1454  \n",
       "4   9.305237   11.46350  0.436957   12.522300          82     1518  "
      ]
     },
     "execution_count": 40,
     "metadata": {},
     "output_type": "execute_result"
    }
   ],
   "source": [
    "X=df_train\n",
    "X=X.drop(['rental','date'],axis=1)\n",
    "X.head()"
   ]
  },
  {
   "cell_type": "code",
   "execution_count": 7,
   "id": "6fa4743c",
   "metadata": {},
   "outputs": [],
   "source": [
    "from sklearn import linear_model\n",
    "from sklearn.linear_model import LinearRegression\n",
    "from sklearn.svm import SVR\n",
    "from sklearn.linear_model import LogisticRegression\n",
    "from sklearn.naive_bayes import GaussianNB\n",
    "from sklearn.ensemble import RandomForestRegressor\n",
    "from sklearn.svm import SVC\n",
    "from sklearn.tree import DecisionTreeRegressor\n",
    "from sklearn.neighbors import KNeighborsClassifier\n",
    "from sklearn.model_selection import KFold\n",
    "import xgboost as xgb"
   ]
  },
  {
   "cell_type": "code",
   "execution_count": 8,
   "id": "a4ed1420",
   "metadata": {},
   "outputs": [
    {
     "name": "stdout",
     "output_type": "stream",
     "text": [
      "RF 0.971881418142541\n",
      "Dtree 0.8917007194207391\n"
     ]
    }
   ],
   "source": [
    "models = []\n",
    "#models.append((\"LR\",LogisticRegression()))\n",
    "#models.append((\"NB\",GaussianNB()))\n",
    "models.append((\"RF\",RandomForestRegressor()))\n",
    "#models.append((\"SVC\",SVC()))\n",
    "models.append((\"Dtree\",DecisionTreeRegressor()))\n",
    "#models.append((\"XGB\",xgb.XGBClassifier()))\n",
    "#models.append((\"KNN\",KNeighborsClassifier()))\n",
    "\n",
    "for name,model in models:\n",
    "   cv_result = cross_val_score(model,X,y,cv=10)\n",
    "   print(name, cv_result.mean())"
   ]
  },
  {
   "cell_type": "code",
   "execution_count": 41,
   "id": "abc66069",
   "metadata": {},
   "outputs": [
    {
     "data": {
      "text/html": [
       "<div>\n",
       "<style scoped>\n",
       "    .dataframe tbody tr th:only-of-type {\n",
       "        vertical-align: middle;\n",
       "    }\n",
       "\n",
       "    .dataframe tbody tr th {\n",
       "        vertical-align: top;\n",
       "    }\n",
       "\n",
       "    .dataframe thead th {\n",
       "        text-align: right;\n",
       "    }\n",
       "</style>\n",
       "<table border=\"1\" class=\"dataframe\">\n",
       "  <thead>\n",
       "    <tr style=\"text-align: right;\">\n",
       "      <th></th>\n",
       "      <th>obs</th>\n",
       "      <th>year</th>\n",
       "      <th>month</th>\n",
       "      <th>season</th>\n",
       "      <th>holiday</th>\n",
       "      <th>working_day</th>\n",
       "      <th>weather_condition</th>\n",
       "      <th>temp</th>\n",
       "      <th>feel_temp</th>\n",
       "      <th>humidity</th>\n",
       "      <th>wind_speed</th>\n",
       "    </tr>\n",
       "  </thead>\n",
       "  <tbody>\n",
       "    <tr>\n",
       "      <th>0</th>\n",
       "      <td>1</td>\n",
       "      <td>2011</td>\n",
       "      <td>1</td>\n",
       "      <td>1</td>\n",
       "      <td>0</td>\n",
       "      <td>0</td>\n",
       "      <td>2</td>\n",
       "      <td>14.110847</td>\n",
       "      <td>18.18125</td>\n",
       "      <td>0.805833</td>\n",
       "      <td>10.749882</td>\n",
       "    </tr>\n",
       "    <tr>\n",
       "      <th>1</th>\n",
       "      <td>2</td>\n",
       "      <td>2011</td>\n",
       "      <td>1</td>\n",
       "      <td>1</td>\n",
       "      <td>0</td>\n",
       "      <td>0</td>\n",
       "      <td>2</td>\n",
       "      <td>14.902598</td>\n",
       "      <td>17.68695</td>\n",
       "      <td>0.696087</td>\n",
       "      <td>16.652113</td>\n",
       "    </tr>\n",
       "    <tr>\n",
       "      <th>2</th>\n",
       "      <td>3</td>\n",
       "      <td>2011</td>\n",
       "      <td>1</td>\n",
       "      <td>1</td>\n",
       "      <td>0</td>\n",
       "      <td>1</td>\n",
       "      <td>1</td>\n",
       "      <td>8.050924</td>\n",
       "      <td>9.47025</td>\n",
       "      <td>0.437273</td>\n",
       "      <td>16.636703</td>\n",
       "    </tr>\n",
       "    <tr>\n",
       "      <th>3</th>\n",
       "      <td>4</td>\n",
       "      <td>2011</td>\n",
       "      <td>1</td>\n",
       "      <td>1</td>\n",
       "      <td>0</td>\n",
       "      <td>1</td>\n",
       "      <td>1</td>\n",
       "      <td>8.200000</td>\n",
       "      <td>10.60610</td>\n",
       "      <td>0.590435</td>\n",
       "      <td>10.739832</td>\n",
       "    </tr>\n",
       "    <tr>\n",
       "      <th>4</th>\n",
       "      <td>5</td>\n",
       "      <td>2011</td>\n",
       "      <td>1</td>\n",
       "      <td>1</td>\n",
       "      <td>0</td>\n",
       "      <td>1</td>\n",
       "      <td>1</td>\n",
       "      <td>9.305237</td>\n",
       "      <td>11.46350</td>\n",
       "      <td>0.436957</td>\n",
       "      <td>12.522300</td>\n",
       "    </tr>\n",
       "  </tbody>\n",
       "</table>\n",
       "</div>"
      ],
      "text/plain": [
       "   obs  year  month  season  holiday  working_day  weather_condition  \\\n",
       "0    1  2011      1       1        0            0                  2   \n",
       "1    2  2011      1       1        0            0                  2   \n",
       "2    3  2011      1       1        0            1                  1   \n",
       "3    4  2011      1       1        0            1                  1   \n",
       "4    5  2011      1       1        0            1                  1   \n",
       "\n",
       "        temp  feel_temp  humidity  wind_speed  \n",
       "0  14.110847   18.18125  0.805833   10.749882  \n",
       "1  14.902598   17.68695  0.696087   16.652113  \n",
       "2   8.050924    9.47025  0.437273   16.636703  \n",
       "3   8.200000   10.60610  0.590435   10.739832  \n",
       "4   9.305237   11.46350  0.436957   12.522300  "
      ]
     },
     "execution_count": 41,
     "metadata": {},
     "output_type": "execute_result"
    }
   ],
   "source": [
    "X=X.drop(['members','occasional'],axis=1)\n",
    "X.head()"
   ]
  },
  {
   "cell_type": "code",
   "execution_count": 10,
   "id": "1d713b3c",
   "metadata": {},
   "outputs": [
    {
     "name": "stdout",
     "output_type": "stream",
     "text": [
      "     obs  year  month  season  holiday  working_day  weather_condition  \\\n",
      "0      1  2011      1       1        0            0                  2   \n",
      "1      2  2011      1       1        0            0                  2   \n",
      "2      3  2011      1       1        0            1                  1   \n",
      "3      4  2011      1       1        0            1                  1   \n",
      "4      5  2011      1       1        0            1                  1   \n",
      "..   ...   ...    ...     ...      ...          ...                ...   \n",
      "726  727  2012     12       1        0            1                  2   \n",
      "727  728  2012     12       1        0            1                  2   \n",
      "728  729  2012     12       1        0            0                  2   \n",
      "729  730  2012     12       1        0            0                  1   \n",
      "730  731  2012     12       1        0            1                  2   \n",
      "\n",
      "          temp  feel_temp  humidity  wind_speed  \n",
      "0    14.110847   18.18125  0.805833   10.749882  \n",
      "1    14.902598   17.68695  0.696087   16.652113  \n",
      "2     8.050924    9.47025  0.437273   16.636703  \n",
      "3     8.200000   10.60610  0.590435   10.739832  \n",
      "4     9.305237   11.46350  0.436957   12.522300  \n",
      "..         ...        ...       ...         ...  \n",
      "726  10.420847   11.33210  0.652917   23.458911  \n",
      "727  10.386653   12.75230  0.590000   10.416557  \n",
      "728  10.386653   12.12000  0.752917    8.333661  \n",
      "729  10.489153   11.58500  0.483333   23.500518  \n",
      "730   8.849153   11.17435  0.577500   10.374682  \n",
      "\n",
      "[731 rows x 11 columns]\n"
     ]
    }
   ],
   "source": [
    "print(X)"
   ]
  },
  {
   "cell_type": "code",
   "execution_count": 26,
   "id": "ce10d8ea",
   "metadata": {},
   "outputs": [
    {
     "name": "stdout",
     "output_type": "stream",
     "text": [
      "[[1.0000000e+00 2.0110000e+03 1.0000000e+00 ... 1.8181250e+01\n",
      "  8.0583300e-01 1.0749882e+01]\n",
      " [2.0000000e+00 2.0110000e+03 1.0000000e+00 ... 1.7686950e+01\n",
      "  6.9608700e-01 1.6652113e+01]\n",
      " [3.0000000e+00 2.0110000e+03 1.0000000e+00 ... 9.4702500e+00\n",
      "  4.3727300e-01 1.6636703e+01]\n",
      " ...\n",
      " [7.2900000e+02 2.0120000e+03 1.2000000e+01 ... 1.2120000e+01\n",
      "  7.5291700e-01 8.3336610e+00]\n",
      " [7.3000000e+02 2.0120000e+03 1.2000000e+01 ... 1.1585000e+01\n",
      "  4.8333300e-01 2.3500518e+01]\n",
      " [7.3100000e+02 2.0120000e+03 1.2000000e+01 ... 1.1174350e+01\n",
      "  5.7750000e-01 1.0374682e+01]]\n"
     ]
    }
   ],
   "source": [
    "print(X.values)"
   ]
  },
  {
   "cell_type": "code",
   "execution_count": 42,
   "id": "1d39e2e3",
   "metadata": {},
   "outputs": [],
   "source": [
    "X=X.values"
   ]
  },
  {
   "cell_type": "code",
   "execution_count": 78,
   "id": "d4e2296b",
   "metadata": {},
   "outputs": [],
   "source": [
    "y=df_train['members']"
   ]
  },
  {
   "cell_type": "code",
   "execution_count": 79,
   "id": "a9baa067",
   "metadata": {},
   "outputs": [
    {
     "name": "stdout",
     "output_type": "stream",
     "text": [
      "[[1.4110847e+01 1.0000000e+00 2.0110000e+03 ... 0.0000000e+00\n",
      "  2.0000000e+00 1.0749882e+01]\n",
      " [1.4902598e+01 2.0000000e+00 2.0110000e+03 ... 0.0000000e+00\n",
      "  2.0000000e+00 1.6652113e+01]\n",
      " [8.0509240e+00 3.0000000e+00 2.0110000e+03 ... 1.0000000e+00\n",
      "  1.0000000e+00 1.6636703e+01]\n",
      " ...\n",
      " [1.0386653e+01 7.2900000e+02 2.0120000e+03 ... 0.0000000e+00\n",
      "  2.0000000e+00 8.3336610e+00]\n",
      " [1.0489153e+01 7.3000000e+02 2.0120000e+03 ... 0.0000000e+00\n",
      "  1.0000000e+00 2.3500518e+01]\n",
      " [8.8491530e+00 7.3100000e+02 2.0120000e+03 ... 1.0000000e+00\n",
      "  2.0000000e+00 1.0374682e+01]]\n"
     ]
    }
   ],
   "source": [
    "X=df_train[['temp','obs','year','season','working_day','weather_condition','wind_speed']].values\n",
    "print(X)"
   ]
  },
  {
   "cell_type": "code",
   "execution_count": 80,
   "id": "2562f68e",
   "metadata": {},
   "outputs": [
    {
     "name": "stdout",
     "output_type": "stream",
     "text": [
      "LR 0.08695149571655539\n",
      "RF 0.3618111697949229\n",
      "Dtree -0.21450634415734893\n"
     ]
    }
   ],
   "source": [
    "models = []\n",
    "models.append((\"LR\",LinearRegression()))\n",
    "#models.append((\"LR\",LogisticRegression()))\n",
    "#models.append((\"NB\",GaussianNB()))\n",
    "models.append((\"RF\",RandomForestRegressor()))\n",
    "#models.append((\"SVC\",SVC()))\n",
    "models.append((\"Dtree\",DecisionTreeRegressor()))\n",
    "#models.append((\"XGB\",xgb.XGBClassifier()))\n",
    "#models.append((\"KNN\",KNeighborsClassifier()))\n",
    "\n",
    "for name,model in models:\n",
    "   cv_result = cross_val_score(model,X,y,cv=20)\n",
    "   print(name, cv_result.mean())"
   ]
  },
  {
   "cell_type": "code",
   "execution_count": 81,
   "id": "0e015d59",
   "metadata": {},
   "outputs": [],
   "source": [
    "y=df_train['occasional']"
   ]
  },
  {
   "cell_type": "code",
   "execution_count": 86,
   "id": "3b606b4c",
   "metadata": {},
   "outputs": [
    {
     "name": "stdout",
     "output_type": "stream",
     "text": [
      "[[1.4110847e+01 1.0000000e+00 2.0110000e+03 0.0000000e+00 2.0000000e+00]\n",
      " [1.4902598e+01 2.0000000e+00 2.0110000e+03 0.0000000e+00 2.0000000e+00]\n",
      " [8.0509240e+00 3.0000000e+00 2.0110000e+03 1.0000000e+00 1.0000000e+00]\n",
      " ...\n",
      " [1.0386653e+01 7.2900000e+02 2.0120000e+03 0.0000000e+00 2.0000000e+00]\n",
      " [1.0489153e+01 7.3000000e+02 2.0120000e+03 0.0000000e+00 1.0000000e+00]\n",
      " [8.8491530e+00 7.3100000e+02 2.0120000e+03 1.0000000e+00 2.0000000e+00]]\n"
     ]
    }
   ],
   "source": [
    "X=df_train[['temp','obs','year','working_day','weather_condition']].values\n",
    "print(X)"
   ]
  },
  {
   "cell_type": "code",
   "execution_count": 85,
   "id": "8a55f5eb",
   "metadata": {},
   "outputs": [
    {
     "name": "stdout",
     "output_type": "stream",
     "text": [
      "LR -1.3694027680066712\n",
      "RF 0.08058894853312974\n",
      "Dtree -1.1551197932824235\n"
     ]
    }
   ],
   "source": [
    "models = []\n",
    "models.append((\"LR\",LinearRegression()))\n",
    "#models.append((\"LR\",LogisticRegression()))\n",
    "#models.append((\"NB\",GaussianNB()))\n",
    "models.append((\"RF\",RandomForestRegressor()))\n",
    "#models.append((\"SVC\",SVC()))\n",
    "models.append((\"Dtree\",DecisionTreeRegressor()))\n",
    "#models.append((\"XGB\",xgb.XGBClassifier()))\n",
    "#models.append((\"KNN\",KNeighborsClassifier()))\n",
    "\n",
    "for name,model in models:\n",
    "   cv_result = cross_val_score(model,X,y,cv=20)\n",
    "   print(name, cv_result.mean())"
   ]
  },
  {
   "cell_type": "code",
   "execution_count": 72,
   "id": "517beca1",
   "metadata": {},
   "outputs": [
    {
     "name": "stdout",
     "output_type": "stream",
     "text": [
      "[[ 654  331]\n",
      " [ 670  131]\n",
      " [1229  120]\n",
      " ...\n",
      " [1182  159]\n",
      " [1432  364]\n",
      " [2290  439]]\n"
     ]
    }
   ],
   "source": [
    "X=df_train[['members','occasional']].values\n",
    "print(X)"
   ]
  },
  {
   "cell_type": "code",
   "execution_count": 73,
   "id": "53f5b5bd",
   "metadata": {},
   "outputs": [],
   "source": [
    "y=df_train['rental']"
   ]
  },
  {
   "cell_type": "code",
   "execution_count": 74,
   "id": "5f2b2bd7",
   "metadata": {},
   "outputs": [
    {
     "name": "stdout",
     "output_type": "stream",
     "text": [
      "LR 1.0\n",
      "RF 0.987614026734702\n",
      "Dtree 0.9662433281477357\n"
     ]
    }
   ],
   "source": [
    "models = []\n",
    "models.append((\"LR\",LinearRegression()))\n",
    "#models.append((\"LR\",LogisticRegression()))\n",
    "#models.append((\"NB\",GaussianNB()))\n",
    "models.append((\"RF\",RandomForestRegressor()))\n",
    "#models.append((\"SVC\",SVC()))\n",
    "models.append((\"Dtree\",DecisionTreeRegressor()))\n",
    "#models.append((\"XGB\",xgb.XGBClassifier()))\n",
    "#models.append((\"KNN\",KNeighborsClassifier()))\n",
    "\n",
    "for name,model in models:\n",
    "   cv_result = cross_val_score(model,X,y,cv=20)\n",
    "   print(name, cv_result.mean())"
   ]
  },
  {
   "cell_type": "code",
   "execution_count": null,
   "id": "7136ea08",
   "metadata": {},
   "outputs": [],
   "source": []
  }
 ],
 "metadata": {
  "kernelspec": {
   "display_name": "Python 3 (ipykernel)",
   "language": "python",
   "name": "python3"
  },
  "language_info": {
   "codemirror_mode": {
    "name": "ipython",
    "version": 3
   },
   "file_extension": ".py",
   "mimetype": "text/x-python",
   "name": "python",
   "nbconvert_exporter": "python",
   "pygments_lexer": "ipython3",
   "version": "3.7.8"
  }
 },
 "nbformat": 4,
 "nbformat_minor": 5
}
